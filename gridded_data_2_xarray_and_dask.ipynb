{
 "cells": [
  {
   "cell_type": "markdown",
   "metadata": {},
   "source": [
    "## Waterhackweek cyberseminar\n",
    "# Workflows for gridded climate datasets\n",
    "## Diana Gergel and Bart Nijssen\n",
    "### University of Washington\n",
    "### February 14, 2019"
   ]
  },
  {
   "cell_type": "markdown",
   "metadata": {},
   "source": [
    "**Abstract:** Climate change, forecasting, satellite datasets, large model ensembles ... Large gridded datasets are everywhere in hydrology and earth science. While accessing and analyzing these datasets required some serious programming skills not so long ago, a number of toolkits are now available that let you easily access, ingest, analyze and display gridded climate datasets. In this webinar we’ll discuss one of the most common file formats used in our field for large data sets, the Network Common Data Format (NetCDF), and step through a Jupyter notebook to showcase python packages, such as xarray and cartopy, that can be used to examine them. No prior experience required, although we will build on some of the skills you have acquired in earlier webinars in the series."
   ]
  },
  {
   "cell_type": "markdown",
   "metadata": {},
   "source": [
    "## GitHub repository\n",
    "\n",
    "The GitHub repository for this presentation can be found at: https://github.com/bartnijssen/gridded_data\n",
    "\n",
    "The README.md file in this repository explains how to configure the environment you need to run the sample notebooks."
   ]
  },
  {
   "cell_type": "markdown",
   "metadata": {},
   "source": [
    "## Outline\n",
    "\n",
    "* `gridded_data_1_background.ipynb`\n",
    "\n",
    "\n",
    "* `gridded_data_2_xarray_and_dask.ipynb` (this notebook)\n",
    "\n",
    "    * Brief Data Intro \n",
    "    * `xarray`: DataSets and DataArrays\n",
    "        * Extracting data variables as DataArrays\n",
    "        * Understanding the time attribute\n",
    "        * Annual Means\n",
    "        * Seasonal Means\n",
    "        * Subsetting by time\n",
    "        * Loading multiple files and concatenating them \n",
    "        * Using `dask` with `xarray`\n",
    "        * Calculating the difference between two time periods \n",
    "\n",
    "\n",
    "* `gridded_data_3_cartopy_and_seaborn.ipynb`\n",
    "\n",
    "\n",
    "* `gridded_data_4_rasterio.ipynb`"
   ]
  },
  {
   "cell_type": "markdown",
   "metadata": {},
   "source": [
    "## Data \n",
    "\n",
    "For this and the following section, we'll be using output from two climate modeling ensembles, the Community Earth System Model (CESM) Large Ensemble (http://www.cesm.ucar.edu/projects/community-projects/LENS/) and the Low Warming Ensemble (http://www.cesm.ucar.edu/experiments/1.5-2.0-targets.html). If you get really excited about working with the data, it is all publicly available (plus lots more) through the NCAR Climate Data Gateway (https://www.earthsystemgrid.org/). \n",
    "\n",
    "We'll be looking at the output variable `TBOT`, which represents the temperature at the bottom level of the atmosphere (at the land surface), for one ensemble member. There are two data files, one for 1850-2005 from the CESM Large Ensemble, and one for 1.5 degrees C of global-mean warming from 2005-2100. "
   ]
  },
  {
   "cell_type": "markdown",
   "metadata": {},
   "source": [
    "## Exploring the Data\n",
    "\n",
    "We'll start off with using __`xarray`__ to explore the data. "
   ]
  },
  {
   "cell_type": "markdown",
   "metadata": {},
   "source": [
    "Let's load some packages that we'll need to use. "
   ]
  },
  {
   "cell_type": "code",
   "execution_count": null,
   "metadata": {},
   "outputs": [],
   "source": [
    "%matplotlib inline\n",
    "import xarray as xr\n",
    "import numpy as np \n",
    "import os \n",
    "import matplotlib.pyplot as plt"
   ]
  },
  {
   "cell_type": "markdown",
   "metadata": {},
   "source": [
    "__Loading the data__"
   ]
  },
  {
   "cell_type": "code",
   "execution_count": null,
   "metadata": {},
   "outputs": [],
   "source": [
    "tbot_hist = xr.open_dataset(os.path.join('data/'\n",
    "                                         'b.e11.B20TRC5CNBDRD.f09_g16.001.clm2.h0.TBOT.185001-200512.nc'))"
   ]
  },
  {
   "cell_type": "markdown",
   "metadata": {},
   "source": [
    "__Now let's see what the file looks like:__ "
   ]
  },
  {
   "cell_type": "code",
   "execution_count": null,
   "metadata": {},
   "outputs": [],
   "source": [
    "tbot_hist "
   ]
  },
  {
   "cell_type": "markdown",
   "metadata": {},
   "source": [
    "__If we just want to look at the data_variables, we can do that like this:__"
   ]
  },
  {
   "cell_type": "code",
   "execution_count": null,
   "metadata": {},
   "outputs": [],
   "source": [
    "tbot_hist.data_vars"
   ]
  },
  {
   "cell_type": "markdown",
   "metadata": {},
   "source": [
    "__Now let's look at the variable we care about, `TBOT`:__"
   ]
  },
  {
   "cell_type": "code",
   "execution_count": null,
   "metadata": {},
   "outputs": [],
   "source": [
    "tbot_hist['TBOT']"
   ]
  },
  {
   "cell_type": "markdown",
   "metadata": {},
   "source": [
    "__Now that we have extracted `TBOT`, it's now a `DataArray` rather than a `DataSet` as before.__"
   ]
  },
  {
   "cell_type": "markdown",
   "metadata": {},
   "source": [
    "__Let's take a look at the time attribute.__"
   ]
  },
  {
   "cell_type": "code",
   "execution_count": null,
   "metadata": {},
   "outputs": [],
   "source": [
    "print(tbot_hist['TBOT'].time[0].values)\n",
    "print(tbot_hist['TBOT'].time[-1].values)\n",
    "tbot_hist['TBOT'].time[:13]"
   ]
  },
  {
   "cell_type": "markdown",
   "metadata": {},
   "source": [
    "__If we want to extract the values from the time attribute as a `numpy` array, we can do:__ "
   ]
  },
  {
   "cell_type": "code",
   "execution_count": null,
   "metadata": {},
   "outputs": [],
   "source": [
    "tbot_hist['TBOT'].time[:13].values "
   ]
  },
  {
   "cell_type": "markdown",
   "metadata": {},
   "source": [
    "__Now if we want to calculate some means:__"
   ]
  },
  {
   "cell_type": "markdown",
   "metadata": {},
   "source": [
    "__For an annual mean of `TBOT`:__"
   ]
  },
  {
   "cell_type": "code",
   "execution_count": null,
   "metadata": {},
   "outputs": [],
   "source": [
    "tbot_hist_ann_mean = tbot_hist['TBOT'].mean('time')"
   ]
  },
  {
   "cell_type": "markdown",
   "metadata": {},
   "source": [
    "__Now let's look at the annual mean globally:__"
   ]
  },
  {
   "cell_type": "code",
   "execution_count": null,
   "metadata": {},
   "outputs": [],
   "source": [
    "tbot_hist_ann_mean.plot()"
   ]
  },
  {
   "cell_type": "markdown",
   "metadata": {},
   "source": [
    "__If we want our plot to look a little prettier (and since we don't think in Kelvin, let's change our units to Celsius):__"
   ]
  },
  {
   "cell_type": "code",
   "execution_count": null,
   "metadata": {},
   "outputs": [],
   "source": [
    "KtoC = 273.15\n",
    "plt.figure(figsize=(8, 4))\n",
    "(tbot_hist_ann_mean - KtoC).plot(add_labels=False, \n",
    "                                 cbar_kwargs={'label': 'Temperature ($^\\circ$C)'}, \n",
    "                                 cmap='bwr')\n",
    "plt.xticks([])\n",
    "plt.yticks([])"
   ]
  },
  {
   "cell_type": "markdown",
   "metadata": {},
   "source": [
    "__Now let's look at some seasonal means:__"
   ]
  },
  {
   "cell_type": "code",
   "execution_count": null,
   "metadata": {},
   "outputs": [],
   "source": [
    "tbot_hist_seas_mean = tbot_hist['TBOT'].groupby('time.season').mean('time') - KtoC"
   ]
  },
  {
   "cell_type": "code",
   "execution_count": null,
   "metadata": {},
   "outputs": [],
   "source": [
    "tbot_hist_seas_mean.dims"
   ]
  },
  {
   "cell_type": "code",
   "execution_count": null,
   "metadata": {},
   "outputs": [],
   "source": [
    "tbot_hist_seas_mean.season"
   ]
  },
  {
   "cell_type": "code",
   "execution_count": null,
   "metadata": {},
   "outputs": [],
   "source": [
    "fig, axes = plt.subplots(1, 4, figsize=(20, 3))\n",
    "\n",
    "# constrain colorbar\n",
    "vmin = -40\n",
    "vmax = 40\n",
    "\n",
    "tbot_hist_seas_mean.sel(season='DJF').plot(ax=axes[0], add_labels=False, \n",
    "                                           cbar_kwargs={'label': 'Temperature ($\\degree$C)'}, \n",
    "                                           cmap='bwr', \n",
    "                                           vmin=vmin, vmax=vmax)\n",
    "\n",
    "axes[0].set_title('DJF')\n",
    "\n",
    "tbot_hist_seas_mean.sel(season='MAM').plot(ax=axes[1], \n",
    "                                      add_labels=False, \n",
    "                                      cbar_kwargs={'label': 'Temperature ($\\degree$C)'}, \n",
    "                                      cmap='bwr', \n",
    "                                      vmin=vmin, vmax=vmax)\n",
    "axes[1].set_title('MAM')\n",
    "tbot_hist_seas_mean.sel(season='JJA').plot(ax=axes[2], \n",
    "                                      add_labels=False, \n",
    "                                      cbar_kwargs={'label': 'Temperature ($\\degree$C)'}, \n",
    "                                      cmap='bwr', \n",
    "                                      vmin=vmin, vmax=vmax)\n",
    "axes[2].set_title('JJA')\n",
    "tbot_hist_seas_mean.sel(season='SON').plot(ax=axes[3], \n",
    "                                      add_labels=False, \n",
    "                                      cbar_kwargs={'label': 'Temperature ($\\degree$C)'}, \n",
    "                                      cmap='bwr', \n",
    "                                      vmin=vmin, vmax=vmax)\n",
    "axes[3].set_title('SON')\n",
    "\n",
    "# turn off axis numbers (they don't add any information to the figures)\n",
    "for fig_ax_num in np.arange(len(axes)):\n",
    "    axes[fig_ax_num].set_xticks([])\n",
    "    axes[fig_ax_num].set_yticks([])"
   ]
  },
  {
   "cell_type": "markdown",
   "metadata": {},
   "source": [
    "__What if we just want to look at the last 30 years of the data time record?__"
   ]
  },
  {
   "cell_type": "code",
   "execution_count": null,
   "metadata": {},
   "outputs": [],
   "source": [
    "plt.figure(figsize=(8, 4))\n",
    "(tbot_hist['TBOT'].sel(time=slice('1975-09-01', '2005-08-31')).mean('time') - KtoC).plot(add_labels=False, \n",
    "                                                                                         cbar_kwargs={'label': 'Temperature ($^\\circ$C)'}, \n",
    "                                                                                         cmap='bwr')\n",
    "plt.xticks([])\n",
    "plt.yticks([])"
   ]
  },
  {
   "cell_type": "markdown",
   "metadata": {},
   "source": [
    "__Now what if we also want to look at some climate projections for the 21st century? The previous file only went through 2005, and maybe we want to understand how the climate is projected to warm. Here we'll also load another file, the 2006-2100 `TBOT` file from the Low Warming Ensemble.__\n",
    "\n",
    "__We can load it in as we did the previous file:__"
   ]
  },
  {
   "cell_type": "code",
   "execution_count": null,
   "metadata": {},
   "outputs": [],
   "source": [
    "tbot_future = xr.open_dataset(os.path.join('data',\n",
    "                                           'b.e11.BRCP26C5CNBDRD.f09_g16.1pt5degC.001.clm2.h0.TBOT.200601-210012.nc'))"
   ]
  },
  {
   "cell_type": "markdown",
   "metadata": {},
   "source": [
    "__Or we can load both files in at the same time and concatenate them. Under the hood, this is using another package called `dask` (http://docs.dask.org/en/latest/), which makes it possible to load many very large files at the same time and quickly.__"
   ]
  },
  {
   "cell_type": "code",
   "execution_count": null,
   "metadata": {},
   "outputs": [],
   "source": [
    "tbot = xr.open_mfdataset(os.path.join('data', \n",
    "                                      'b.e11*'), concat_dim='time')"
   ]
  },
  {
   "cell_type": "markdown",
   "metadata": {},
   "source": [
    "__In this step, `dask` is looking for all files with the prefix `b.e11` (called a wildcard) in the specified directory and then concatenating them together on the `time` dimension into one DataSet.__\n",
    "\n",
    "__We can see from looking at the time dimension that the full time record is now in one DataSet.__"
   ]
  },
  {
   "cell_type": "code",
   "execution_count": null,
   "metadata": {},
   "outputs": [],
   "source": [
    "print(tbot.time[0].values)\n",
    "print(tbot.time[-1].values)"
   ]
  },
  {
   "cell_type": "markdown",
   "metadata": {},
   "source": [
    "__So now if we want to compare JJA temperatures from two different time periods, it's very straightforward:__"
   ]
  },
  {
   "cell_type": "code",
   "execution_count": null,
   "metadata": {},
   "outputs": [],
   "source": [
    "tbot_hist_clim = tbot['TBOT'].sel(time=slice('1975-09-01', '2005-08-31')\n",
    "                                 ).groupby('time.season').mean('time')\n",
    "tbot_future_clim = tbot['TBOT'].sel(time=slice('2070-09-01', '2099-08-31')\n",
    "                                   ).groupby('time.season').mean('time')"
   ]
  },
  {
   "cell_type": "code",
   "execution_count": null,
   "metadata": {},
   "outputs": [],
   "source": [
    "plt.figure(figsize=(8, 4))\n",
    "\n",
    "tbot_difference_jja = (tbot_future_clim.sel(season='JJA') - tbot_hist_clim.sel(season='JJA'))\n",
    "\n",
    "tbot_difference_jja.plot(add_labels=False, \n",
    "                     cbar_kwargs={'label': 'Difference in Temperature ($^\\circ$C)'}, \n",
    "                     cmap='viridis', \n",
    "                     robust=True)\n",
    "plt.xticks([])\n",
    "plt.yticks([])"
   ]
  },
  {
   "cell_type": "markdown",
   "metadata": {},
   "source": [
    "__Or winter temperature (DJF):__"
   ]
  },
  {
   "cell_type": "code",
   "execution_count": null,
   "metadata": {},
   "outputs": [],
   "source": [
    "plt.figure(figsize=(8, 4))\n",
    "\n",
    "season = 'DJF'\n",
    "\n",
    "tbot_difference_djf = (tbot_future_clim.sel(season=season) - tbot_hist_clim.sel(season=season))\n",
    "\n",
    "tbot_difference_djf.plot(add_labels=False, \n",
    "                     cbar_kwargs={'label': 'Difference in Temperature ($^\\circ$C)'}, \n",
    "                     cmap='viridis', \n",
    "                     robust=True)\n",
    "plt.xticks([])\n",
    "plt.yticks([])"
   ]
  },
  {
   "cell_type": "code",
   "execution_count": null,
   "metadata": {},
   "outputs": [],
   "source": []
  }
 ],
 "metadata": {
  "kernelspec": {
   "display_name": "whw_gridded_data",
   "language": "python",
   "name": "whw_gridded_data"
  },
  "language_info": {
   "codemirror_mode": {
    "name": "ipython",
    "version": 3
   },
   "file_extension": ".py",
   "mimetype": "text/x-python",
   "name": "python",
   "nbconvert_exporter": "python",
   "pygments_lexer": "ipython3",
   "version": "3.6.7"
  }
 },
 "nbformat": 4,
 "nbformat_minor": 2
}
