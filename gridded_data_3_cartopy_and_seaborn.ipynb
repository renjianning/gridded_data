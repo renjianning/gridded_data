{
 "cells": [
  {
   "cell_type": "markdown",
   "metadata": {},
   "source": [
    "## Waterhackweek cyberseminar\n",
    "# Workflows for gridded climate datasets\n",
    "## Diana Gergel and Bart Nijssen\n",
    "### University of Washington\n",
    "### February 14, 2019"
   ]
  },
  {
   "cell_type": "markdown",
   "metadata": {},
   "source": [
    "**Abstract:** Climate change, forecasting, satellite datasets, large model ensembles ... Large gridded datasets are everywhere in hydrology and earth science. While accessing and analyzing these datasets required some serious programming skills not so long ago, a number of toolkits are now available that let you easily access, ingest, analyze and display gridded climate datasets. In this webinar we’ll discuss one of the most common file formats used in our field for large data sets, the Network Common Data Format (NetCDF), and step through a Jupyter notebook to showcase python packages, such as xarray and cartopy, that can be used to examine them. No prior experience required, although we will build on some of the skills you have acquired in earlier webinars in the series."
   ]
  },
  {
   "cell_type": "markdown",
   "metadata": {},
   "source": [
    "## GitHub repository\n",
    "\n",
    "The GitHub repository for this presentation can be found at: https://github.com/bartnijssen/gridded_data\n",
    "\n",
    "The README.md file in this repository explains how to configure the environment you need to run the sample notebooks."
   ]
  },
  {
   "cell_type": "markdown",
   "metadata": {},
   "source": [
    "## Outline\n",
    "\n",
    "* `gridded_data_1_background.ipynb`\n",
    "\n",
    "\n",
    "* `gridded_data_2_xarray_and_dask.ipynb`\n",
    "\n",
    "\n",
    "* `gridded_data_3_cartopy_and_seaborn.ipynb` (this notebook)\n",
    "\n",
    "    * Creating a heatmap with `seaborn`\n",
    "    * Creating a global map with features using `cartopy`\n",
    "\n",
    "\n",
    "* `gridded_data_4_rasterio.ipynb`"
   ]
  },
  {
   "cell_type": "markdown",
   "metadata": {},
   "source": [
    "Load some packages that we'll be using: "
   ]
  },
  {
   "cell_type": "code",
   "execution_count": null,
   "metadata": {},
   "outputs": [],
   "source": [
    "%matplotlib inline\n",
    "import xarray as xr\n",
    "import numpy as np \n",
    "import os \n",
    "import matplotlib.pyplot as plt\n",
    "import pandas as pd\n",
    "\n",
    "import seaborn as sns \n",
    "import cartopy.crs as ccrs\n",
    "import cartopy.feature as cfeature"
   ]
  },
  {
   "cell_type": "markdown",
   "metadata": {},
   "source": [
    "__To start with, let's load the DataSet that we left off with in the last notebook:__"
   ]
  },
  {
   "cell_type": "code",
   "execution_count": null,
   "metadata": {},
   "outputs": [],
   "source": [
    "tbot = xr.open_mfdataset(os.path.join('data', \n",
    "                                      'b.e11*'), concat_dim='time')"
   ]
  },
  {
   "cell_type": "markdown",
   "metadata": {},
   "source": [
    " __We're going to start off by looking at using `seaborn` (https://seaborn.pydata.org/), a data visualization library based on matplotlib. It integrates well with `pandas` and can also be used in conjunction with `cartopy`, which we'll talk about in a bit.__ "
   ]
  },
  {
   "cell_type": "markdown",
   "metadata": {},
   "source": [
    "__Let's first look at an example from the Seaborn gallery (https://seaborn.pydata.org/examples/index.html), which is a great place to go if you're interested in how you can use `seaborn` in your research.__"
   ]
  },
  {
   "cell_type": "code",
   "execution_count": null,
   "metadata": {},
   "outputs": [],
   "source": [
    "sns.set(style=\"white\")\n",
    "plt.figure(figsize=(8, 4))\n",
    "\n",
    "# Load the example mpg dataset\n",
    "mpg = sns.load_dataset(\"mpg\")\n",
    "\n",
    "# Plot miles per gallon against horsepower with other semantics\n",
    "sns.relplot(x=\"horsepower\", y=\"mpg\", hue=\"origin\", size=\"weight\",\n",
    "            sizes=(40, 400), alpha=.5, palette=\"muted\",\n",
    "            height=4, data=mpg)"
   ]
  },
  {
   "cell_type": "markdown",
   "metadata": {},
   "source": [
    "__The disadvantage of `seaborn` is that to use this code, our DataFrame needs to be structured pretty similar to this one:__"
   ]
  },
  {
   "cell_type": "code",
   "execution_count": null,
   "metadata": {},
   "outputs": [],
   "source": [
    "mpg[:5]"
   ]
  },
  {
   "cell_type": "markdown",
   "metadata": {},
   "source": [
    "__Let's take a look at another example, and this time let's get our data to be in the right format:__\n",
    "\n",
    "__We're taking this example heatmap from the Seaborn gallery:__"
   ]
  },
  {
   "cell_type": "code",
   "execution_count": null,
   "metadata": {},
   "outputs": [],
   "source": [
    "sns.set()\n",
    "\n",
    "# Load the example flights dataset and conver to long-form\n",
    "flights_long = sns.load_dataset(\"flights\")\n",
    "flights = flights_long.pivot(\"month\", \"year\", \"passengers\")\n",
    "\n",
    "# Draw a heatmap with the numeric values in each cell\n",
    "f, ax = plt.subplots(figsize=(9, 6))\n",
    "sns.heatmap(flights, annot=True, fmt=\"d\", linewidths=.5, ax=ax)"
   ]
  },
  {
   "cell_type": "markdown",
   "metadata": {},
   "source": [
    "__We'll start off with selecting one spatial point from our DataSet, this is located in the southern part of South America__: "
   ]
  },
  {
   "cell_type": "markdown",
   "metadata": {},
   "source": [
    "__And before we do that we'll subset our DataSet on the time axis:__"
   ]
  },
  {
   "cell_type": "code",
   "execution_count": null,
   "metadata": {},
   "outputs": [],
   "source": [
    "tbot_time_slice = tbot['TBOT'].sel(time=slice('2070-01-01', '2099-12-31'))"
   ]
  },
  {
   "cell_type": "code",
   "execution_count": null,
   "metadata": {},
   "outputs": [],
   "source": [
    "tbot_pt = tbot_time_slice[:, 45, 233]"
   ]
  },
  {
   "cell_type": "markdown",
   "metadata": {},
   "source": [
    "__Now we've lost our spatial dimension and just have a time series:__"
   ]
  },
  {
   "cell_type": "code",
   "execution_count": null,
   "metadata": {},
   "outputs": [],
   "source": [
    "tbot_pt"
   ]
  },
  {
   "cell_type": "markdown",
   "metadata": {},
   "source": [
    "__We need our DataFrame to be formatted similarly to the example one:__"
   ]
  },
  {
   "cell_type": "code",
   "execution_count": null,
   "metadata": {},
   "outputs": [],
   "source": [
    "flights_long[:5]"
   ]
  },
  {
   "cell_type": "markdown",
   "metadata": {},
   "source": [
    "__So let's create our DataFrame with the subsetted `TBOT`:__"
   ]
  },
  {
   "cell_type": "code",
   "execution_count": null,
   "metadata": {},
   "outputs": [],
   "source": [
    "tbot_df = pd.DataFrame()\n",
    "tbot_df['year'] = tbot_time_slice['time.year'].values\n",
    "tbot_df['month'] = tbot_time_slice['time.month'].values\n",
    "tbot_df['tbot'] = (tbot_pt - 273.15).values"
   ]
  },
  {
   "cell_type": "markdown",
   "metadata": {},
   "source": [
    "__And let's see what it looks like:__"
   ]
  },
  {
   "cell_type": "code",
   "execution_count": null,
   "metadata": {},
   "outputs": [],
   "source": [
    "tbot_df[:5]"
   ]
  },
  {
   "cell_type": "markdown",
   "metadata": {},
   "source": [
    "__Now let's make our heatmap:__"
   ]
  },
  {
   "cell_type": "code",
   "execution_count": null,
   "metadata": {},
   "outputs": [],
   "source": [
    "sns.set()\n",
    "\n",
    "f, ax = plt.subplots(figsize=(8,4))\n",
    "tbot_pivot = tbot_df.pivot(\"month\", \"year\", \"tbot\")\n",
    "sns.heatmap(tbot_pivot, \n",
    "            linewidths=.5, \n",
    "            ax=ax, \n",
    "            cbar_kws={'label': 'Temperature ($^\\circ$C)'}, \n",
    "            cmap='viridis')"
   ]
  },
  {
   "cell_type": "markdown",
   "metadata": {},
   "source": [
    "__Now we'll shift to a quick intro to `cartopy` (https://scitools.org.uk/cartopy/docs/latest/), a package designed for geospatial data processing to produce maps and other analyses.__\n",
    "\n",
    "__We'll start by visualizing the mean for the last 30 years of the 21st century:__"
   ]
  },
  {
   "cell_type": "code",
   "execution_count": null,
   "metadata": {},
   "outputs": [],
   "source": [
    "fig = plt.figure(figsize=(10, 5))\n",
    "ax = plt.axes(projection=ccrs.Robinson())\n",
    "\n",
    "ax.coastlines()\n",
    "\n",
    "(tbot_time_slice.mean('time') - 273.15).plot(ax=ax, transform=ccrs.PlateCarree(), \n",
    "                                             subplot_kws={'projection': ccrs.Robinson()}, \n",
    "                                             cbar_kwargs={'label': 'Temperature ($^\\circ$C)'})\n",
    "ax.add_feature(cfeature.OCEAN)"
   ]
  },
  {
   "cell_type": "markdown",
   "metadata": {},
   "source": [
    "__We can add some country borders too:__"
   ]
  },
  {
   "cell_type": "code",
   "execution_count": null,
   "metadata": {},
   "outputs": [],
   "source": [
    "fig = plt.figure(figsize=(10, 5))\n",
    "ax = plt.axes(projection=ccrs.Robinson())\n",
    "\n",
    "ax.coastlines()\n",
    "\n",
    "(tbot_time_slice.mean('time') - 273.15).plot(ax=ax, transform=ccrs.PlateCarree(), \n",
    "                                             subplot_kws={'projection': ccrs.Robinson()}, \n",
    "                                             cbar_kwargs={'label': 'Temperature ($^\\circ$C)'})\n",
    "ax.add_feature(cfeature.OCEAN)\n",
    "ax.add_feature(cfeature.COASTLINE)\n",
    "ax.add_feature(cfeature.BORDERS, linestyle=':')"
   ]
  },
  {
   "cell_type": "markdown",
   "metadata": {},
   "source": [
    "__And then also lakes and rivers:__"
   ]
  },
  {
   "cell_type": "code",
   "execution_count": null,
   "metadata": {},
   "outputs": [],
   "source": [
    "fig = plt.figure(figsize=(10, 5))\n",
    "ax = plt.axes(projection=ccrs.Robinson())\n",
    "\n",
    "ax.coastlines()\n",
    "\n",
    "(tbot_time_slice.mean('time') - 273.15).plot(ax=ax, transform=ccrs.PlateCarree(), \n",
    "                                             subplot_kws={'projection': ccrs.Robinson()}, \n",
    "                                             cbar_kwargs={'label': 'Temperature ($^\\circ$C)'})\n",
    "ax.add_feature(cfeature.OCEAN)\n",
    "ax.add_feature(cfeature.LAKES, alpha=0.8)\n",
    "ax.add_feature(cfeature.RIVERS, alpha=0.8)"
   ]
  },
  {
   "cell_type": "markdown",
   "metadata": {},
   "source": [
    "__There are lots of other projections available too: https://scitools.org.uk/cartopy/docs/v0.15/crs/projections.html#cartopy-projections__\n",
    "\n",
    "__We can also define our own classes of projections, which I've done for the Arctic for my research.__\n",
    "\n",
    "__If you'd like to learn more about `cartopy`, the `cartopy` site is a great place to explore: https://scitools.org.uk/cartopy/docs/latest/index.html__"
   ]
  },
  {
   "cell_type": "code",
   "execution_count": null,
   "metadata": {},
   "outputs": [],
   "source": []
  }
 ],
 "metadata": {
  "kernelspec": {
   "display_name": "whw_gridded_data",
   "language": "python",
   "name": "whw_gridded_data"
  },
  "language_info": {
   "codemirror_mode": {
    "name": "ipython",
    "version": 3
   },
   "file_extension": ".py",
   "mimetype": "text/x-python",
   "name": "python",
   "nbconvert_exporter": "python",
   "pygments_lexer": "ipython3",
   "version": "3.6.7"
  }
 },
 "nbformat": 4,
 "nbformat_minor": 2
}
